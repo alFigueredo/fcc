{
  "cells": [
    {
      "cell_type": "code",
      "execution_count": null,
      "metadata": {
        "id": "8RZOuS9LWQvv"
      },
      "outputs": [],
      "source": [
        "# import libraries\n",
        "# try:\n",
        "#   # %tensorflow_version only exists in Colab.\n",
        "#   !pip install tf-nightly\n",
        "# except Exception:\n",
        "#   pass\n",
        "import tensorflow as tf\n",
        "import pandas as pd\n",
        "from tensorflow import keras\n",
        "# !pip install tensorflow-datasets\n",
        "# import tensorflow_datasets as tfds\n",
        "import numpy as np\n",
        "import matplotlib.pyplot as plt\n",
        "\n",
        "print(tf.__version__)"
      ]
    },
    {
      "cell_type": "code",
      "execution_count": null,
      "metadata": {
        "id": "lMHwYXHXCar3"
      },
      "outputs": [],
      "source": [
        "# get data files\n",
        "!wget https://cdn.freecodecamp.org/project-data/sms/train-data.tsv\n",
        "!wget https://cdn.freecodecamp.org/project-data/sms/valid-data.tsv\n",
        "\n",
        "train_file_path = \"train-data.tsv\"\n",
        "test_file_path = \"valid-data.tsv\""
      ]
    },
    {
      "cell_type": "code",
      "execution_count": null,
      "metadata": {
        "id": "g_h508FEClxO"
      },
      "outputs": [],
      "source": [
        "train_dataset = pd.read_csv(\n",
        "    train_file_path,\n",
        "    encoding = \"ISO-8859-1\",\n",
        "    sep=\"\\t\",\n",
        "    names=['type', 'text'],\n",
        "    usecols=['type', 'text'],\n",
        "    dtype={'isbn': 'str', 'title': 'str'})\n",
        "test_dataset = pd.read_csv(\n",
        "    test_file_path,\n",
        "    encoding = \"ISO-8859-1\",\n",
        "    sep=\"\\t\",\n",
        "    names=['type', 'text'],\n",
        "    usecols=['type', 'text'],\n",
        "    dtype={'isbn': 'str', 'title': 'str'})\n",
        "\n",
        "train_labels = train_dataset.pop(\"type\")\n",
        "train_labels = (train_labels==\"spam\")*1.0\n",
        "test_labels = test_dataset.pop(\"type\")\n",
        "test_labels = (test_labels==\"spam\")*1.0\n",
        "\n",
        "train_dataset.head(10)"
      ]
    },
    {
      "cell_type": "code",
      "execution_count": null,
      "metadata": {
        "id": "zOMKywn4zReN"
      },
      "outputs": [],
      "source": [
        "max_features = 2**10\n",
        "sequence_length = 2**5\n",
        "\n",
        "vectorize_layer = keras.layers.TextVectorization(\n",
        "    max_tokens=max_features,\n",
        "    output_mode='int',\n",
        "    output_sequence_length=sequence_length)\n",
        "\n",
        "vectorize_layer.adapt(train_dataset)\n",
        "\n",
        "train_ds = vectorize_layer(train_dataset)\n",
        "test_ds = vectorize_layer(test_dataset)\n",
        "\n",
        "train_ds[:10]"
      ]
    },
    {
      "cell_type": "code",
      "source": [
        "model = keras.Sequential([\n",
        "    keras.layers.Embedding(max_features, 16),\n",
        "    keras.layers.LSTM(16),\n",
        "    keras.layers.Dense(1, activation=\"sigmoid\")\n",
        "])\n",
        "\n",
        "model.summary()"
      ],
      "metadata": {
        "id": "87EGZant2wD9"
      },
      "execution_count": null,
      "outputs": []
    },
    {
      "cell_type": "code",
      "source": [
        "model.compile(loss=\"binary_crossentropy\",optimizer=\"rmsprop\",metrics=['acc'])\n",
        "\n",
        "history = model.fit(train_ds, train_labels, epochs=10, validation_data=(test_ds, test_labels))"
      ],
      "metadata": {
        "id": "Oj_Iz8gFSQdS"
      },
      "execution_count": null,
      "outputs": []
    },
    {
      "cell_type": "code",
      "source": [
        "def encode_text(text):\n",
        "  tokens = vectorize_layer(text)\n",
        "  return tokens\n",
        "\n",
        "text = \"how are you doing today?\"\n",
        "encoded = encode_text(text)\n",
        "print(encoded)"
      ],
      "metadata": {
        "id": "4aaIwP5nVtkd"
      },
      "execution_count": null,
      "outputs": []
    },
    {
      "cell_type": "code",
      "execution_count": null,
      "metadata": {
        "id": "J9tD9yACG6M9"
      },
      "outputs": [],
      "source": [
        "# function to predict messages based on model\n",
        "# (should return list containing prediction and label, ex. [0.008318834938108921, 'ham'])\n",
        "def predict_message(pred_text):\n",
        "  encoded_text = encode_text(pred_text)\n",
        "  pred = np.zeros((1,sequence_length))\n",
        "  pred[0] = encoded_text\n",
        "  result = model.predict(pred)[0]\n",
        "  return [result, \"spam\" if result>0.5 else \"ham\"]\n",
        "\n",
        "pred_text = \"how are you doing today?\"\n",
        "print(pred_text)\n",
        "prediction = predict_message(pred_text)\n",
        "print(prediction)"
      ]
    },
    {
      "cell_type": "code",
      "execution_count": null,
      "metadata": {
        "id": "Dxotov85SjsC"
      },
      "outputs": [],
      "source": [
        "# Run this cell to test your function and model. Do not modify contents.\n",
        "def test_predictions():\n",
        "  test_messages = [\"how are you doing today\",\n",
        "                   \"sale today! to stop texts call 98912460324\",\n",
        "                   \"i dont want to go. can we try it a different day? available sat\",\n",
        "                   \"our new mobile video service is live. just install on your phone to start watching.\",\n",
        "                   \"you have won £1000 cash! call to claim your prize.\",\n",
        "                   \"i'll bring it tomorrow. don't forget the milk.\",\n",
        "                   \"wow, is your arm alright. that happened to me one time too\"\n",
        "                  ]\n",
        "\n",
        "  test_answers = [\"ham\", \"spam\", \"ham\", \"spam\", \"spam\", \"ham\", \"ham\"]\n",
        "  passed = True\n",
        "\n",
        "  for msg, ans in zip(test_messages, test_answers):\n",
        "    prediction = predict_message(msg)\n",
        "    if prediction[1] != ans:\n",
        "      passed = False\n",
        "\n",
        "  if passed:\n",
        "    print(\"You passed the challenge. Great job!\")\n",
        "  else:\n",
        "    print(\"You haven't passed yet. Keep trying.\")\n",
        "\n",
        "test_predictions()\n"
      ]
    }
  ],
  "metadata": {
    "colab": {
      "private_outputs": true,
      "provenance": []
    },
    "kernelspec": {
      "display_name": "Python 3",
      "name": "python3"
    },
    "language_info": {}
  },
  "nbformat": 4,
  "nbformat_minor": 0
}